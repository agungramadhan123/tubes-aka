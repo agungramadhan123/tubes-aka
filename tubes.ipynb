{
 "cells": [
  {
   "cell_type": "code",
   "execution_count": 15,
   "metadata": {},
   "outputs": [],
   "source": [
    "import time\n",
    "import pandas as pd\n",
    "import matplotlib.pyplot as plt"
   ]
  },
  {
   "cell_type": "code",
   "execution_count": 16,
   "metadata": {},
   "outputs": [
    {
     "name": "stdout",
     "output_type": "stream",
     "text": [
      "              NIM Jenis_Kelamin     Kelas Kode_WK Kode_MK  Nilai_MK\n",
      "0    130592490001             P  DS 50 01     AOK   STD11       100\n",
      "1    130592490002             P  DS 50 01     AOK   STD11        68\n",
      "2    130592490003             P  DS 50 01     AOK   STD11        69\n",
      "3    130592490004             P  DS 50 01     AOK   STD11        64\n",
      "4    130592490005             P  DS 50 01     AOK   STD11        66\n",
      "..            ...           ...       ...     ...     ...       ...\n",
      "295  130592490296             P  DS 50 07     NAA   STD11        91\n",
      "296  130592490297             L  DS 50 07     NAA   STD11        70\n",
      "297  130592490298             P  DS 50 07     NAA   STD11        87\n",
      "298  130592490299             P  DS 50 07     NAA   STD11        72\n",
      "299  130592490300             L  DS 50 07     NAA   STD11        83\n",
      "\n",
      "[300 rows x 6 columns]\n"
     ]
    }
   ],
   "source": [
    "# Load dataset CSV\n",
    "df = pd.read_csv('data_mahasiswaa.csv')\n",
    "print(df)"
   ]
  },
  {
   "cell_type": "code",
   "execution_count": 17,
   "metadata": {},
   "outputs": [
    {
     "name": "stdout",
     "output_type": "stream",
     "text": [
      "Jumlah mahasiswa di masing-masing: \n",
      "Kelas\n",
      "DS 50 01    40\n",
      "DS 50 02    44\n",
      "DS 50 03    41\n",
      "DS 50 04    45\n",
      "DS 50 05    45\n",
      "DS 50 06    43\n",
      "DS 50 07    42\n",
      "dtype: int64\n"
     ]
    }
   ],
   "source": [
    "# Hitung jumlah mahasiswa di setiap kelas\n",
    "jumlah_mahasiswa_per_kelas = df.groupby('Kelas').size()\n",
    "\n",
    "# Tampilkan hasil\n",
    "print(\"Jumlah mahasiswa di masing-masing: \")\n",
    "print(jumlah_mahasiswa_per_kelas)"
   ]
  },
  {
   "cell_type": "code",
   "execution_count": 18,
   "metadata": {},
   "outputs": [
    {
     "name": "stdout",
     "output_type": "stream",
     "text": [
      "Data Mahasiswa\n",
      "\n",
      "              NIM Jenis_Kelamin     Kelas Kode_WK Kode_MK  Nilai_MK\n",
      "0    130592490001             P  DS 50 01     AOK   STD11       100\n",
      "1    130592490073             P  DS 50 02     AOK   STD11       100\n",
      "2    130592490148             P  DS 50 04     DBA   STD11       100\n",
      "3    130592490191             L  DS 50 05     DBA   STD11       100\n",
      "4    130592490192             P  DS 50 05     DBA   STD11       100\n",
      "..            ...           ...       ...     ...     ...       ...\n",
      "295  130592490204             L  DS 50 05     DBA   STD11        60\n",
      "296  130592490212             P  DS 50 05     DBA   STD11        60\n",
      "297  130592490244             L  DS 50 06     NAA   STD11        60\n",
      "298  130592490291             P  DS 50 07     NAA   STD11        60\n",
      "299  130592490293             P  DS 50 07     NAA   STD11        60\n",
      "\n",
      "[300 rows x 6 columns]\n"
     ]
    }
   ],
   "source": [
    "def UrutanNilaiRekursif(data, n=None):\n",
    "    if n is None:\n",
    "        n = len(data)\n",
    "\n",
    "    if n <= 1:\n",
    "        return data\n",
    "\n",
    "    for i in range(n-1):\n",
    "        if data.iloc[i]['Nilai_MK'] < data.iloc[i+1]['Nilai_MK']:\n",
    "            data.iloc[i], data.iloc[i+1] = data.iloc[i+1], data.iloc[i]\n",
    "    return UrutanNilaiRekursif(data, n-1)\n",
    "\n",
    "# Mengurutkan data berdasarkan Nilai_MK secara rekursif\n",
    "UrutanDF = UrutanNilaiRekursif(df)\n",
    "print(\"Data Mahasiswa\\n\")\n",
    "print(UrutanDF)"
   ]
  },
  {
   "cell_type": "code",
   "execution_count": 19,
   "metadata": {},
   "outputs": [
    {
     "name": "stdout",
     "output_type": "stream",
     "text": [
      "Data Mahasiswa (Iteratif)\n",
      "\n",
      "              NIM Jenis_Kelamin     Kelas Kode_WK Kode_MK  Nilai_MK\n",
      "0    130592490001             P  DS 50 01     AOK   STD11       100\n",
      "1    130592490073             P  DS 50 02     AOK   STD11       100\n",
      "2    130592490148             P  DS 50 04     DBA   STD11       100\n",
      "3    130592490191             L  DS 50 05     DBA   STD11       100\n",
      "4    130592490192             P  DS 50 05     DBA   STD11       100\n",
      "..            ...           ...       ...     ...     ...       ...\n",
      "295  130592490204             L  DS 50 05     DBA   STD11        60\n",
      "296  130592490212             P  DS 50 05     DBA   STD11        60\n",
      "297  130592490244             L  DS 50 06     NAA   STD11        60\n",
      "298  130592490291             P  DS 50 07     NAA   STD11        60\n",
      "299  130592490293             P  DS 50 07     NAA   STD11        60\n",
      "\n",
      "[300 rows x 6 columns]\n"
     ]
    }
   ],
   "source": [
    "def UrutanNilaiIteratif(data):\n",
    "    n = len(data)\n",
    "    # Loop utama untuk iterasi\n",
    "    for i in range(n):\n",
    "        # Loop untuk membandingkan elemen berpasangan\n",
    "        for j in range(0, n-i-1):\n",
    "            if data.iloc[j]['Nilai_MK'] < data.iloc[j+1]['Nilai_MK']:\n",
    "                # Tukar elemen jika tidak dalam urutan yang benar\n",
    "                data.iloc[j], data.iloc[j+1] = data.iloc[j+1], data.iloc[j]\n",
    "    return data\n",
    "\n",
    "# Mengurutkan data secara iteratif\n",
    "UrutanDF = UrutanNilaiIteratif(df)\n",
    "print(\"Data Mahasiswa (Iteratif)\\n\")\n",
    "print(UrutanDF)"
   ]
  },
  {
   "cell_type": "code",
   "execution_count": null,
   "metadata": {},
   "outputs": [],
   "source": [
    "\n",
    "# Menentukan ukuran dataset untuk tiap iterasi\n",
    "n_values = [i for i in range(100, 301, 50)]\n",
    "\n",
    "rekursif_times = []\n",
    "iteratif_times = []\n",
    "\n",
    "for n in n_values:\n",
    "    # Ambil sampel dengan batas jumlah maksimal baris yang ada\n",
    "    df_temp = df.sample(min(n, len(df)), replace=False)\n",
    "\n",
    "    # Rekursif\n",
    "    start_time = time.time()\n",
    "    UrutanNilaiRekursif(df_temp)\n",
    "    rekursif_times.append(time.time() - start_time)\n",
    "\n",
    "    # Iteratif\n",
    "    start_time = time.time()\n",
    "    UrutanNilaiIteratif(df_temp)\n",
    "    iteratif_times.append(time.time() - start_time)\n",
    "\n",
    "# Plotting\n",
    "\n",
    "plt.figure(figsize=(10, 6))\n",
    "plt.plot(n_values, rekursif_times, label='Rekursif')\n",
    "plt.plot(n_values, iteratif_times, label='Iteratif')\n",
    "plt.xlabel('Ukuran Dataset (n)')\n",
    "plt.ylabel('Waktu Eksekusi (detik)')\n",
    "plt.title('Perbandingan Waktu Eksekusi Rekursif vs Iteratif')\n",
    "plt.legend()\n",
    "plt.show()\n"
   ]
  },
  {
   "cell_type": "code",
   "execution_count": null,
   "metadata": {},
   "outputs": [],
   "source": []
  }
 ],
 "metadata": {
  "kernelspec": {
   "display_name": "Python 3",
   "language": "python",
   "name": "python3"
  },
  "language_info": {
   "codemirror_mode": {
    "name": "ipython",
    "version": 3
   },
   "file_extension": ".py",
   "mimetype": "text/x-python",
   "name": "python",
   "nbconvert_exporter": "python",
   "pygments_lexer": "ipython3",
   "version": "3.12.6"
  }
 },
 "nbformat": 4,
 "nbformat_minor": 2
}
